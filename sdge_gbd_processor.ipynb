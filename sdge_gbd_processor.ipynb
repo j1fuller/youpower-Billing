{
 "cells": [
  {
   "cell_type": "code",
   "execution_count": 1,
   "metadata": {},
   "outputs": [],
   "source": [
    "import pandas as pd\n",
    "import glob\n",
    "from datetime import datetime"
   ]
  },
  {
   "cell_type": "code",
   "execution_count": 2,
   "metadata": {},
   "outputs": [],
   "source": [
    "# SDG&E rates\n",
    "RATES = {\n",
    "    'summer': {'on_peak': 0.59908, 'off_peak': 0.52754, 'super_off_peak': 0.45000},\n",
    "    'winter': {'on_peak': 0.58155, 'off_peak': 0.51899, 'super_off_peak': 0.50084}\n",
    "}\n",
    "\n",
    "HOLIDAYS = ['1/1/2025', '2/17/2025', '5/26/2025', '7/4/2025', '9/1/2025', '11/11/2025', '11/27/2025', '12/25/2025']"
   ]
  },
  {
   "cell_type": "code",
   "execution_count": 3,
   "metadata": {},
   "outputs": [],
   "source": [
    "def process_gbd_file(filepath):\n",
    "    # Find where data starts\n",
    "    with open(filepath, 'r') as f:\n",
    "        lines = f.readlines()\n",
    "    \n",
    "    header_row = 0\n",
    "    for i, line in enumerate(lines):\n",
    "        if 'Meter Number,Date,Start Time' in line:\n",
    "            header_row = i\n",
    "            break\n",
    "    \n",
    "    # Read data\n",
    "    df = pd.read_csv(filepath, skiprows=header_row)\n",
    "    \n",
    "    # Get account info\n",
    "    account_info = {\n",
    "        'name': lines[0].split(',')[1].strip(),\n",
    "        'meter_number': lines[6].split(',')[1].strip()\n",
    "    }\n",
    "    \n",
    "    # Process timestamps\n",
    "    df['DateTime'] = pd.to_datetime(df['Date'] + ' ' + df['Start Time'])\n",
    "    df['Hour'] = df['DateTime'].dt.hour\n",
    "    df['Month'] = df['DateTime'].dt.month\n",
    "    df['Weekday'] = df['DateTime'].dt.dayofweek\n",
    "    \n",
    "    # Determine season\n",
    "    df['Season'] = df['Month'].apply(lambda m: 'summer' if 6 <= m <= 10 else 'winter')\n",
    "    \n",
    "    # Determine if weekend/holiday\n",
    "    df['IsWeekendHoliday'] = (df['Weekday'] >= 5) | (df['DateTime'].dt.strftime('%-m/%-d/%Y').isin(HOLIDAYS))\n",
    "    \n",
    "    # Determine time period\n",
    "    def get_period(row):\n",
    "        hour = row['Hour']\n",
    "        if row['IsWeekendHoliday']:\n",
    "            if 16 <= hour < 21: return 'on_peak'\n",
    "            elif 14 <= hour < 16 or 21 <= hour: return 'off_peak'\n",
    "            else: return 'super_off_peak'\n",
    "        else:\n",
    "            if 16 <= hour < 21: return 'on_peak'\n",
    "            elif 6 <= hour < 16 or 21 <= hour:\n",
    "                if row['Month'] in [3,4] and 10 <= hour < 14: return 'super_off_peak'\n",
    "                return 'off_peak'\n",
    "            else: return 'super_off_peak'\n",
    "    \n",
    "    df['TimePeriod'] = df.apply(get_period, axis=1)\n",
    "    \n",
    "    # Apply rates\n",
    "    df['Rate'] = df.apply(lambda row: RATES[row['Season']][row['TimePeriod']], axis=1)\n",
    "    df['Cost'] = df['Net'].astype(float) * df['Rate']\n",
    "    \n",
    "    # Add account info\n",
    "    for k, v in account_info.items():\n",
    "        df[k] = v\n",
    "    \n",
    "    return df"
   ]
  },
  {
   "cell_type": "code",
   "execution_count": 4,
   "metadata": {},
   "outputs": [
    {
     "name": "stdout",
     "output_type": "stream",
     "text": [
      "Processing ./gbd_data/Electric_15_Minute_512025_5302025_20250609.csv\n"
     ]
    },
    {
     "name": "stderr",
     "output_type": "stream",
     "text": [
      "/tmp/ipykernel_2409/2691603573.py:22: UserWarning: Could not infer format, so each element will be parsed individually, falling back to `dateutil`. To ensure parsing is consistent and as-expected, please specify a format.\n",
      "  df['DateTime'] = pd.to_datetime(df['Date'] + ' ' + df['Start Time'])\n"
     ]
    },
    {
     "name": "stdout",
     "output_type": "stream",
     "text": [
      "  2880 rows, $16.08 total\n",
      "\n",
      "Saved 2880 total rows\n"
     ]
    }
   ],
   "source": [
    "# Process all files\n",
    "all_data = []\n",
    "\n",
    "for csv_file in glob.glob('./gbd_data/*.csv'):\n",
    "    print(f\"Processing {csv_file}\")\n",
    "    df = process_gbd_file(csv_file)\n",
    "    all_data.append(df)\n",
    "    print(f\"  {len(df)} rows, ${df['Cost'].sum():.2f} total\")\n",
    "\n",
    "# Combine and save\n",
    "if all_data:\n",
    "    combined = pd.concat(all_data)\n",
    "    combined.to_csv('./processed_sdge_data.csv', index=False)\n",
    "    print(f\"\\nSaved {len(combined)} total rows\")"
   ]
  }
 ],
 "metadata": {
  "kernelspec": {
   "display_name": "Python 3 (ipykernel)",
   "language": "python",
   "name": "python3"
  },
  "language_info": {
   "codemirror_mode": {
    "name": "ipython",
    "version": 3
   },
   "file_extension": ".py",
   "mimetype": "text/x-python",
   "name": "python",
   "nbconvert_exporter": "python",
   "pygments_lexer": "ipython3",
   "version": "3.12.1"
  }
 },
 "nbformat": 4,
 "nbformat_minor": 4
}
